{
 "cells": [
  {
   "cell_type": "markdown",
   "metadata": {},
   "source": [
    "# Task - 1 (Python Programming)"
   ]
  },
  {
   "cell_type": "code",
   "execution_count": 23,
   "metadata": {},
   "outputs": [
    {
     "name": "stdout",
     "output_type": "stream",
     "text": [
      "Hello, World!\n"
     ]
    }
   ],
   "source": [
    "#Say \"Hello, World!\" With Python\n",
    "\n",
    "\n",
    "print(\"Hello, World!\")"
   ]
  },
  {
   "cell_type": "code",
   "execution_count": 24,
   "metadata": {},
   "outputs": [
    {
     "name": "stdout",
     "output_type": "stream",
     "text": [
      "Enter a value : 23\n",
      "Weird\n"
     ]
    }
   ],
   "source": [
    "#Python If-Else\n",
    "\n",
    "a=int(input(\"Enter a value : \"))\n",
    "\n",
    "if(a>=1 and a<=100):\n",
    "    if(a%2==0):\n",
    "        if(a>=2 and a<=5 ):\n",
    "            print(\"Not Weird\")\n",
    "        elif(a>=6 and a<=20 ):\n",
    "            print(\"Weird\")\n",
    "        elif(a>20):\n",
    "            print(\"Not Weird\")\n",
    "    else:\n",
    "        print(\"Weird\")\n",
    "        "
   ]
  },
  {
   "cell_type": "code",
   "execution_count": 25,
   "metadata": {},
   "outputs": [
    {
     "name": "stdout",
     "output_type": "stream",
     "text": [
      "Enter a value : 2\n",
      "Entr b value : 2\n",
      "Addition of two numbers :  4\n",
      "Substraction of two numbers :  0\n",
      "Multiplication of two numbers :  4\n"
     ]
    }
   ],
   "source": [
    "\n",
    "a=int(input(\"Enter a value : \"))\n",
    "b=int(input(\"Entr b value : \"))\n",
    "print(\"Addition of two numbers : \",a+b)\n",
    "print(\"Substraction of two numbers : \",a-b)\n",
    "print(\"Multiplication of two numbers : \",a*b)"
   ]
  },
  {
   "cell_type": "code",
   "execution_count": 26,
   "metadata": {},
   "outputs": [
    {
     "name": "stdout",
     "output_type": "stream",
     "text": [
      "Enter a value : 1\n",
      "Enter b value : 2\n",
      "0\n",
      "0.5\n"
     ]
    }
   ],
   "source": [
    "#Python: Division\n",
    "\n",
    "a=int(input(\"Enter a value : \"))\n",
    "b=int(input(\"Enter b value : \"))\n",
    "print(a//b)\n",
    "print(float(a)/b)"
   ]
  },
  {
   "cell_type": "code",
   "execution_count": null,
   "metadata": {},
   "outputs": [],
   "source": [
    "#Loops\n",
    "\n",
    "n=int(input(\"Enter n value : \"))\n",
    "if(n>=1 and n<=20):\n",
    "    for i in  range(0,n):\n",
    "        print(i*i)"
   ]
  },
  {
   "cell_type": "code",
   "execution_count": 28,
   "metadata": {},
   "outputs": [
    {
     "name": "stdout",
     "output_type": "stream",
     "text": [
      "Enter n value : 2\n",
      "12"
     ]
    }
   ],
   "source": [
    "#Print Function\n",
    "\n",
    "n=int(input(\"Enter n value : \").strip())\n",
    "for i in range(1,n+1):\n",
    "    print(i,end=\"\")\n",
    "    "
   ]
  },
  {
   "cell_type": "code",
   "execution_count": 29,
   "metadata": {},
   "outputs": [
    {
     "name": "stdout",
     "output_type": "stream",
     "text": [
      "Enter the year : 3\n"
     ]
    },
    {
     "data": {
      "text/plain": [
       "False"
      ]
     },
     "execution_count": 29,
     "metadata": {},
     "output_type": "execute_result"
    }
   ],
   "source": [
    "#Write a function\n",
    "\n",
    "def check_leap(year):\n",
    "    if(year%400==0):\n",
    "        leap=True\n",
    "    if(year%100==0):\n",
    "        leap=False\n",
    "    if(year%4==0):\n",
    "        leap=True\n",
    "    else:\n",
    "        leap=False\n",
    "    return leap;\n",
    "\n",
    "n=int(input(\"Enter the year : \"))\n",
    "check_leap(n)"
   ]
  }
 ],
 "metadata": {
  "kernelspec": {
   "display_name": "Python 3",
   "language": "python",
   "name": "python3"
  },
  "language_info": {
   "codemirror_mode": {
    "name": "ipython",
    "version": 3
   },
   "file_extension": ".py",
   "mimetype": "text/x-python",
   "name": "python",
   "nbconvert_exporter": "python",
   "pygments_lexer": "ipython3",
   "version": "3.8.3"
  }
 },
 "nbformat": 4,
 "nbformat_minor": 4
}
