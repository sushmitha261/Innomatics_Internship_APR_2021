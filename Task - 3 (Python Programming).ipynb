{
 "cells": [
  {
   "cell_type": "markdown",
   "metadata": {},
   "source": [
    "# Math functions"
   ]
  },
  {
   "cell_type": "code",
   "execution_count": 12,
   "metadata": {},
   "outputs": [
    {
     "name": "stdout",
     "output_type": "stream",
     "text": [
      "1\n",
      "2\n",
      "the complex number is  (1+2j)\n",
      "the absolute value of complex number is  2.23606797749979\n",
      "phase of the complex number is  1.1071487177940904\n"
     ]
    }
   ],
   "source": [
    "#Polar Coordinates\n",
    "\n",
    "import cmath\n",
    "real=int(input())\n",
    "img=int(input())\n",
    "z=complex(real,img)\n",
    "print(\"the complex number is \" ,z)\n",
    "print(\"the absolute value of complex number is \",abs(complex(z)))\n",
    "print(\"phase of the complex number is \",cmath.phase(z))"
   ]
  },
  {
   "cell_type": "code",
   "execution_count": 13,
   "metadata": {},
   "outputs": [
    {
     "name": "stdout",
     "output_type": "stream",
     "text": [
      "10\n",
      "10\n",
      "45°\n"
     ]
    }
   ],
   "source": [
    "#Find Angle MBC\n",
    "\n",
    "import math\n",
    "\n",
    "ab = int(input())\n",
    "bc = int(input())\n",
    "\n",
    "h = math.sqrt(ab**2 + bc**2)\n",
    "h = h / 2.0\n",
    "adj = bc / 2.0\n",
    "print (str(int(round(math.degrees(math.acos(adj/h))))) + u\"\\N{DEGREE SIGN}\")"
   ]
  },
  {
   "cell_type": "code",
   "execution_count": 14,
   "metadata": {},
   "outputs": [
    {
     "name": "stdout",
     "output_type": "stream",
     "text": [
      "4\n",
      "1\n",
      "121\n",
      "12321\n",
      "1234321\n"
     ]
    }
   ],
   "source": [
    "#Triangle Quest 2\n",
    "\n",
    "for i in range(1,int(input())+1): \n",
    "    print((10**i//9)**2)"
   ]
  },
  {
   "cell_type": "code",
   "execution_count": 15,
   "metadata": {},
   "outputs": [
    {
     "name": "stdout",
     "output_type": "stream",
     "text": [
      "177\n",
      "10\n",
      "17\n",
      "7\n",
      "(17, 7)\n"
     ]
    }
   ],
   "source": [
    "#Mod Divmod\n",
    "\n",
    "a,b=int(input()),int(input())\n",
    "x=divmod(a,b)\n",
    "print(x[0])\n",
    "print(x[1])\n",
    "print(x)\n"
   ]
  },
  {
   "cell_type": "code",
   "execution_count": 17,
   "metadata": {},
   "outputs": [
    {
     "name": "stdout",
     "output_type": "stream",
     "text": [
      "1\n",
      "2\n",
      "3\n",
      "1\n",
      "1\n"
     ]
    }
   ],
   "source": [
    "#Power - Mod Power\n",
    "\n",
    "a,b,c=int(input()),int(input()),int(input())\n",
    "print(a**b)\n",
    "print(pow(a,b,c))\n"
   ]
  },
  {
   "cell_type": "code",
   "execution_count": 18,
   "metadata": {},
   "outputs": [
    {
     "name": "stdout",
     "output_type": "stream",
     "text": [
      "2\n",
      "3\n",
      "4\n",
      "5\n",
      "1032\n"
     ]
    }
   ],
   "source": [
    "#Integers Come In All Sizes\n",
    "\n",
    "a,b,c,d=int(input()),int(input()),int(input()),int(input())\n",
    "print(a**b + c**d)"
   ]
  },
  {
   "cell_type": "code",
   "execution_count": 19,
   "metadata": {},
   "outputs": [
    {
     "name": "stdout",
     "output_type": "stream",
     "text": [
      "5\n",
      "1\n",
      "22\n",
      "333\n",
      "4444\n"
     ]
    }
   ],
   "source": [
    "#Triangle Quest\n",
    "\n",
    "\n",
    "for i in range(1,int(input())): \n",
    "    print (int(i* 10**i /9))\n",
    "\n"
   ]
  }
 ],
 "metadata": {
  "kernelspec": {
   "display_name": "Python 3",
   "language": "python",
   "name": "python3"
  },
  "language_info": {
   "codemirror_mode": {
    "name": "ipython",
    "version": 3
   },
   "file_extension": ".py",
   "mimetype": "text/x-python",
   "name": "python",
   "nbconvert_exporter": "python",
   "pygments_lexer": "ipython3",
   "version": "3.8.3"
  }
 },
 "nbformat": 4,
 "nbformat_minor": 4
}
